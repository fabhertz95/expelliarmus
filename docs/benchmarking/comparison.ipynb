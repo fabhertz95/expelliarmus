{
 "cells": [
  {
   "cell_type": "code",
   "execution_count": null,
   "metadata": {},
   "outputs": [],
   "source": [
    "from expelliarmus import Wizard\n",
    "import pathlib\n",
    "import h5py\n",
    "import numpy as np\n",
    "import timeit\n",
    "import requests\n",
    "import pickle\n",
    "import os"
   ]
  },
  {
   "attachments": {},
   "cell_type": "markdown",
   "metadata": {},
   "source": [
    "## Download original data in evt3 raw format"
   ]
  },
  {
   "cell_type": "code",
   "execution_count": null,
   "metadata": {},
   "outputs": [],
   "source": [
    "fname = \"driving_sample\"\n",
    "extension_map = {\n",
    "    'dat': 'dat',\n",
    "    'evt2': 'raw',\n",
    "    'evt3': 'raw',\n",
    "    'hdf5': 'hdf5',\n",
    "    'hdf5_lzf': 'hdf5',\n",
    "    'hdf5_gzip': 'hdf5',\n",
    "    'numpy': 'npy',\n",
    "}\n",
    "get_fpath = lambda encoding: f\"{fname}_{encoding}.{extension_map[encoding]}\"\n",
    "\n",
    "if not os.path.exists(get_fpath('evt3')):\n",
    "    # Downloading files.\n",
    "    print(\"Downloading EVT3 file... \", end=\"\")\n",
    "    if not pathlib.Path(get_fpath('evt3')).is_file():\n",
    "        r = requests.get(\"https://dataset.prophesee.ai/index.php/s/nVcLLdWAnNzrmII/download\", allow_redirects=True) # spinner.dat, DAT\n",
    "        open(get_fpath('evt3'), 'wb').write(r.content)\n",
    "    print(\"done!\")\n",
    "\n",
    "wizard = Wizard(encoding=\"evt3\")\n",
    "data = wizard.read(get_fpath('evt3'))"
   ]
  },
  {
   "attachments": {},
   "cell_type": "markdown",
   "metadata": {},
   "source": [
    "## Generate all comparison files"
   ]
  },
  {
   "cell_type": "code",
   "execution_count": null,
   "metadata": {},
   "outputs": [],
   "source": [
    "# evt2 and dat\n",
    "raw_encodings = [\"dat\", \"evt2\", \"evt3\"]\n",
    "for encoding in raw_encodings[:2]:\n",
    "    if not os.path.exists(get_fpath(encoding)):\n",
    "        print(f\"Generating file for {encoding} encoding.\")\n",
    "        wizard = Wizard(encoding=\"evt3\")\n",
    "        wizard.set_encoding(encoding)\n",
    "        wizard.save(fpath=get_fpath(encoding), arr=data)\n",
    "\n",
    "# variants of hdf5\n",
    "hdf5_encodings = [\"hdf5\", \"hdf5_lzf\", \"hdf5_gzip\"]\n",
    "for encoding in hdf5_encodings:\n",
    "    fpath = pathlib.Path(f\"{fname}_{encoding}.hdf5\")\n",
    "    if not os.path.exists(fpath):\n",
    "        print(f\"Generating file for {encoding} encoding.\")\n",
    "        fp = h5py.File(fpath, \"w\")\n",
    "        fpath = pathlib.Path(get_fpath(encoding))\n",
    "        if encoding==\"hdf5\":\n",
    "            fp.create_dataset(name=\"events\", shape=data.shape, dtype=data.dtype, data=data)\n",
    "        elif encoding==\"hdf5_lzf\":\n",
    "            fp.create_dataset(name=\"events\", shape=data.shape, dtype=data.dtype, data=data, compression=\"lzf\")\n",
    "        elif encoding==\"hdf5_gzip\":\n",
    "            fp.create_dataset(name=\"events\", shape=data.shape, dtype=data.dtype, data=data, compression=\"gzip\")\n",
    "        fp.close()\n",
    "\n",
    "# numpy\n",
    "fpath = get_fpath('numpy')\n",
    "if not os.path.exists(fpath):\n",
    "    print(f\"Generating file for numpy encoding.\")\n",
    "    np.save(fpath, data, allow_pickle=True)"
   ]
  },
  {
   "cell_type": "markdown",
   "metadata": {},
   "source": [
    "## Run benchmarks"
   ]
  },
  {
   "cell_type": "code",
   "execution_count": null,
   "metadata": {},
   "outputs": [],
   "source": [
    "REPEAT = 10\n",
    "get_fsize_MB = lambda fpath: round(fpath.stat().st_size/(1024*1024))\n",
    "\n",
    "# evt2, evt3, dat\n",
    "raw_times = []\n",
    "raw_sizes = []\n",
    "for encoding in raw_encodings:\n",
    "    fpath = get_fpath(encoding)\n",
    "    wizard = Wizard(encoding)\n",
    "    wizard.set_file(fpath)\n",
    "    raw_times.append(sum(timeit.repeat(lambda: wizard.read(fpath), number=1, repeat=REPEAT))/REPEAT)\n",
    "    raw_sizes.append(get_fsize_MB(pathlib.Path(fpath)))\n",
    "\n",
    "# hdf5 variants\n",
    "hdf5_times = []\n",
    "hdf5_sizes = []\n",
    "for encoding in hdf5_encodings:\n",
    "    fpath = get_fpath(encoding)\n",
    "    fp = h5py.File(fpath)\n",
    "    hdf5_times.append(sum(timeit.repeat(lambda: fp[\"events\"][:], number=1, repeat=REPEAT))/REPEAT)\n",
    "    fp.close()\n",
    "    hdf5_sizes.append(get_fsize_MB(pathlib.Path(fpath)))\n",
    "\n",
    "# numpy\n",
    "fpath = get_fpath('numpy')\n",
    "numpy_time = sum(timeit.repeat(lambda: np.load(fpath), number=1, repeat=REPEAT))/REPEAT\n",
    "numpy_size = get_fsize_MB(pathlib.Path(fpath))"
   ]
  },
  {
   "cell_type": "markdown",
   "metadata": {},
   "source": [
    "## Plot results"
   ]
  },
  {
   "cell_type": "code",
   "execution_count": null,
   "metadata": {},
   "outputs": [],
   "source": [
    "import pandas as pd\n",
    "\n",
    "df = pd.DataFrame({\n",
    "    'Encoding': raw_encodings + hdf5_encodings + [\"numpy\"],\n",
    "    'Framework': [\"expelliarmus\"] * len(raw_encodings) + [\"h5py\"] * len(hdf5_encodings) + [\"numpy\"],\n",
    "    'Read time [s]': raw_times + hdf5_times + [numpy_time],\n",
    "    'File size [MB]': raw_sizes + hdf5_sizes + [numpy_size],\n",
    "})"
   ]
  },
  {
   "cell_type": "code",
   "execution_count": null,
   "metadata": {},
   "outputs": [],
   "source": [
    "import plotly.express as px\n",
    "\n",
    "title = f\"Reading the same {int(len(data)/1e6)} million events from different files.\"\n",
    "fig = px.scatter(df, x='Read time [s]', y='File size [MB]', color='Framework', symbol='Encoding', title=title)\n",
    "fig.update_traces(marker_size=13)\n",
    "fig.write_image('file_read_benchmark.png')"
   ]
  },
  {
   "cell_type": "code",
   "execution_count": null,
   "metadata": {},
   "outputs": [],
   "source": [
    "# alternative plot\n",
    "\n",
    "fig = px.scatter(df, size='File size [MB]', x='Read time [s]', y='Encoding', color='Framework')\n",
    "fig.show()\n"
   ]
  }
 ],
 "metadata": {
  "kernelspec": {
   "display_name": "base",
   "language": "python",
   "name": "python3"
  },
  "language_info": {
   "codemirror_mode": {
    "name": "ipython",
    "version": 3
   },
   "file_extension": ".py",
   "mimetype": "text/x-python",
   "name": "python",
   "nbconvert_exporter": "python",
   "pygments_lexer": "ipython3",
   "version": "3.9.15"
  },
  "orig_nbformat": 4,
  "vscode": {
   "interpreter": {
    "hash": "3c00e5e7c7a569083cb991dfa106f557879cc0d1d84bf5b9d92fbb6bf680d358"
   }
  }
 },
 "nbformat": 4,
 "nbformat_minor": 2
}
