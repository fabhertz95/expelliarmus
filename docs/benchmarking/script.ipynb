{
 "cells": [
  {
   "cell_type": "markdown",
   "id": "df7c20ca",
   "metadata": {},
   "source": [
    "# Benchmarking full and chunked file reading"
   ]
  },
  {
   "cell_type": "markdown",
   "id": "24a4b039",
   "metadata": {},
   "source": [
    "In this notebook, a benchmark on three file types (DAT, EVT2 and EVT3) is run, comparing expelliarmus and metavision."
   ]
  },
  {
   "cell_type": "code",
   "execution_count": 1,
   "id": "67216d11",
   "metadata": {},
   "outputs": [],
   "source": [
    "from expelliarmus import Wizard\n",
    "from metavision_core.event_io import EventsIterator, RawReader\n",
    "from metavision_core.event_io.py_reader import EventDatReader\n",
    "import pathlib\n",
    "import h5py\n",
    "import numpy as np\n",
    "import timeit\n",
    "import requests\n",
    "import pickle\n",
    "\n",
    "FIRST_RUN = True\n",
    "SAVE_RESULTS = True\n",
    "LOAD_RESULTS = False\n",
    "REPEAT = 10"
   ]
  },
  {
   "cell_type": "markdown",
   "id": "9355fcc5",
   "metadata": {},
   "source": [
    "## setup"
   ]
  },
  {
   "cell_type": "code",
   "execution_count": 2,
   "id": "88b54325",
   "metadata": {},
   "outputs": [],
   "source": [
    "get_fsize_MB = lambda fpath: round(fpath.stat().st_size/(1024*1024))"
   ]
  },
  {
   "cell_type": "code",
   "execution_count": 3,
   "id": "590db872",
   "metadata": {},
   "outputs": [
    {
     "name": "stdout",
     "output_type": "stream",
     "text": [
      "Downloading EVT3 file... done!\n"
     ]
    }
   ],
   "source": [
    "fname = \"driving_sample\"\n",
    "get_fpath = lambda encoding: f\"{fname}_{encoding}.{'raw' if encoding!='dat' else 'dat'}\"\n",
    "\n",
    "if FIRST_RUN:\n",
    "    # Downloading files.\n",
    "    print(\"Downloading EVT3 file... \", end=\"\")\n",
    "    if not pathlib.Path(get_fpath('evt3')).is_file():\n",
    "        r = requests.get(\"https://dataset.prophesee.ai/index.php/s/nVcLLdWAnNzrmII/download\", allow_redirects=True) # spinner.dat, DAT\n",
    "        with open(get_fpath('evt3'), 'wb') as f:\n",
    "            f.write(r.content)\n",
    "    print(\"done!\")"
   ]
  },
  {
   "cell_type": "markdown",
   "id": "37261eb9",
   "metadata": {},
   "source": [
    "converting files"
   ]
  },
  {
   "cell_type": "code",
   "execution_count": 4,
   "id": "8d2db532",
   "metadata": {},
   "outputs": [
    {
     "name": "stdout",
     "output_type": "stream",
     "text": [
      "Converting the EVT3 file to EVT2 and DAT formats... done!\n"
     ]
    }
   ],
   "source": [
    "softwares = (\"hdf5\", \"hdf5_lzf\", \"hdf5_gzip\", \"numpy\")\n",
    "encodings = (\"dat\", \"evt2\", \"evt3\")\n",
    "\n",
    "print(\"Converting the EVT3 file to EVT2 and DAT formats... \", end=\"\")\n",
    "wizard = Wizard(encoding=\"evt3\")\n",
    "evt3_arr = wizard.read(get_fpath('evt3'))\n",
    "for encoding in (\"dat\", \"evt2\"):\n",
    "    wizard.set_encoding(encoding)\n",
    "    wizard.save(fpath=get_fpath(encoding), arr=evt3_arr)\n",
    "print(\"done!\")"
   ]
  },
  {
   "cell_type": "code",
   "execution_count": 5,
   "id": "0fd9c45b",
   "metadata": {},
   "outputs": [],
   "source": [
    "EMPTY_DICT = lambda: dict(fsize=0, full=0, windowed=0, chunked=0)\n",
    "data = dict(\n",
    "    expelliarmus = dict(dat=EMPTY_DICT(), evt2=EMPTY_DICT(), evt3=EMPTY_DICT()),\n",
    "    metavision = dict(dat=EMPTY_DICT(), evt2=EMPTY_DICT(), evt3=EMPTY_DICT()),\n",
    "    hdf5 = EMPTY_DICT(),\n",
    "    hdf5_lzf = EMPTY_DICT(),\n",
    "    hdf5_gzip = EMPTY_DICT(),\n",
    "    numpy = dict(fsize=0, full=0),\n",
    ")"
   ]
  },
  {
   "cell_type": "markdown",
   "id": "c1351099",
   "metadata": {},
   "source": [
    "## run benchmarking"
   ]
  },
  {
   "cell_type": "markdown",
   "id": "22a41189",
   "metadata": {},
   "source": [
    "### benchmarking for expelliarmus"
   ]
  },
  {
   "cell_type": "code",
   "execution_count": 6,
   "id": "f8f0e10d",
   "metadata": {},
   "outputs": [
    {
     "name": "stdout",
     "output_type": "stream",
     "text": [
      " dat: 0.91s\n",
      "evt2: 0.86s\n",
      "evt3: 1.83s\n"
     ]
    }
   ],
   "source": [
    "if LOAD_RESULTS:\n",
    "    data = pickle.load(open(\"./benchmark.pk\", \"rb\"))\n",
    "\n",
    "for encoding in encodings:\n",
    "    if not LOAD_RESULTS:  \n",
    "        fpath = pathlib.Path(get_fpath(encoding))\n",
    "        wizard.set_encoding(encoding)\n",
    "        wizard.set_file(fpath)\n",
    "        if FIRST_RUN:\n",
    "            arr = wizard.read()\n",
    "            \n",
    "        data[\"expelliarmus\"][encoding][\"fsize\"] = get_fsize_MB(fpath)       \n",
    "        data[\"expelliarmus\"][encoding][\"full\"] = sum(timeit.repeat(lambda: wizard.read(), number=1, repeat=REPEAT))/REPEAT\n",
    "        print(f'{encoding:>4}: {data[\"expelliarmus\"][encoding][\"full\"]:.2f}s')"
   ]
  },
  {
   "cell_type": "markdown",
   "id": "1a2f7000",
   "metadata": {},
   "source": [
    "### benchmarking for metavision"
   ]
  },
  {
   "cell_type": "code",
   "execution_count": 7,
   "id": "3605322f",
   "metadata": {},
   "outputs": [],
   "source": [
    "def metavision_read_raw(rawreader, n_skip=10_000_000):\n",
    "    rawreader.reset()\n",
    "    while not rawreader.done:\n",
    "        rawreader.seek_event(n_skip)\n",
    "    n_events = rawreader.current_event_index()\n",
    "    rawreader.reset()\n",
    "    return rawreader.load_n_events(n_events)\n",
    "\n",
    "def metavision_read_dat(datreader):\n",
    "    return datreader.load_n_events(datreader.event_count())\n",
    "\n",
    "def metavision_read_raw_iterator(eviterator, delta_t=10_000):\n",
    "    return [ev for ev in eviterator]"
   ]
  },
  {
   "cell_type": "code",
   "execution_count": 9,
   "id": "32c5982f",
   "metadata": {
    "scrolled": false
   },
   "outputs": [
    {
     "name": "stdout",
     "output_type": "stream",
     "text": [
      "[dat] duration (direct): 0.48s\n",
      "[dat] duration (iterator): 6.93s\n",
      "[evt2] duration (direct): 3.38s\n",
      "[evt2] duration (iterator): 1.31s\n",
      "[evt3] duration (direct): 4.56s\n",
      "[evt3] duration (iterator): 2.09s\n"
     ]
    }
   ],
   "source": [
    "# n_events: 111_484_516\n",
    "# lower bound: 2 bytes per event\n",
    "# upper bound: 9 bytes per event\n",
    "REPEAT = 3\n",
    "if not LOAD_RESULTS:\n",
    "    for encoding in encodings:\n",
    "        fpath = pathlib.Path(get_fpath(encoding))\n",
    "        \n",
    "        data['metavision'][encoding]['fsize'] = get_fsize_MB(fpath)\n",
    "\n",
    "        if 'evt' in encoding:\n",
    "            N_SKIP = int(1e7)\n",
    "            MAX_EVENTS = int(1e9)\n",
    "            raw_reader = RawReader(str(fpath), max_events=MAX_EVENTS)\n",
    "            raw_fn = lambda: metavision_read_raw(raw_reader, n_skip=N_SKIP)\n",
    "        elif encoding == 'dat':\n",
    "            dat_reader = EventDatReader(str(fpath))\n",
    "            raw_fn = lambda: metavision_read_dat(dat_reader)\n",
    "\n",
    "        raw_duration = sum(timeit.repeat(raw_fn, number=1, repeat=REPEAT)) / REPEAT\n",
    "        print(f'[{encoding}] duration (direct): {raw_duration:.2f}s')\n",
    "\n",
    "        DELTA_T = 10000\n",
    "        evit_reader = EventsIterator(str(fpath), delta_t=DELTA_T)\n",
    "        evit_fn = lambda: [ev for ev in evit_reader]\n",
    "\n",
    "        evit_duration = sum(timeit.repeat(evit_fn, number=1, repeat=REPEAT)) / REPEAT\n",
    "        print(f'[{encoding}] duration (iterator): {evit_duration:.2f}s')\n",
    "\n",
    "        data['metavision'][encoding]['full'] = min(raw_duration, evit_duration)"
   ]
  },
  {
   "cell_type": "markdown",
   "id": "3055d47d",
   "metadata": {},
   "source": [
    "### benchmarking for HDF5 and NPY formats"
   ]
  },
  {
   "cell_type": "code",
   "execution_count": 10,
   "id": "c4a002c8",
   "metadata": {},
   "outputs": [
    {
     "name": "stdout",
     "output_type": "stream",
     "text": [
      "hdf5: 0.77s\n",
      "hdf5_lzf: 2.92s\n",
      "hdf5_gzip: 5.14s\n",
      "numpy: 0.46s\n"
     ]
    }
   ],
   "source": [
    "if FIRST_RUN:\n",
    "    for sw in softwares[:-1]:\n",
    "        fpath = pathlib.Path(f\"ref_{sw}.hdf5\")\n",
    "        fp = h5py.File(fpath, \"w\")\n",
    "        if sw==\"hdf5\":\n",
    "            arr_hdf5 = fp.create_dataset(\"arr\", arr.shape, arr.dtype)\n",
    "        elif sw==\"hdf5_lzf\":\n",
    "            arr_hdf5 = fp.create_dataset(\"arr\", arr.shape, arr.dtype, compression=\"lzf\")\n",
    "        elif sw==\"hdf5_gzip\":\n",
    "            arr_hdf5 = fp.create_dataset(\"arr\", arr.shape, arr.dtype, compression=\"gzip\")\n",
    "            \n",
    "        arr_hdf5[:] = arr[:]\n",
    "        fp.close()\n",
    "        data[sw][\"fsize\"] = get_fsize_MB(fpath)\n",
    "        fp = h5py.File(fpath)\n",
    "        data[sw][\"full\"] = sum(timeit.repeat(lambda: fp[\"arr\"][:], number=1, repeat=REPEAT))/REPEAT\n",
    "        fp.close()\n",
    "        print(f'{sw}: {data[sw][\"full\"]:.2f}s')\n",
    "\n",
    "    # NumPy\n",
    "    fpath = pathlib.Path(\"ref_np.npy\")\n",
    "    np.save(fpath, arr, allow_pickle=False)\n",
    "    data[\"numpy\"][\"fsize\"] = get_fsize_MB(fpath)\n",
    "    data[\"numpy\"][\"full\"] = sum(timeit.repeat(lambda: np.load(fpath), number=1, repeat=REPEAT))/REPEAT\n",
    "    print(f'numpy: {data[\"numpy\"][\"full\"]:.2f}s')"
   ]
  },
  {
   "cell_type": "markdown",
   "id": "ccb2664d",
   "metadata": {},
   "source": [
    "## benchmarking results"
   ]
  },
  {
   "cell_type": "code",
   "execution_count": 11,
   "id": "e8db2ceb",
   "metadata": {},
   "outputs": [],
   "source": [
    "def get_diff_perc_str(ref, val):\n",
    "    if (val > ref):\n",
    "        return f\"+{round((val/ref-1)*100):>3}%\"\n",
    "    else:\n",
    "        return f\"-{round((1-val/ref)*100):>3}%\""
   ]
  },
  {
   "cell_type": "code",
   "execution_count": 79,
   "id": "a78eca80",
   "metadata": {},
   "outputs": [
    {
     "name": "stdout",
     "output_type": "stream",
     "text": [
      "------------------------------------------------------------------------------------------------------------\n",
      "Software  | Size [MB] | Diff. DAT | Diff. EVT2 | Diff. EVT3 | Time [s] | Diff. DAT | Diff. EVT2 | Diff. EVT3\n",
      "------------------------------------------------------------------------------------------------------------\n",
      "exp. DAT  | 851       | -  0%     | +100%      | +143%      | 0.91      | -  0%    | +  7%      | - 50%   \n",
      "------------------------------------------------------------------------------------------------------------\n",
      "exp. EVT2 | 426       | - 50%     | -  0%      | + 22%      | 0.86      | -  6%    | -  0%      | - 53%   \n",
      "------------------------------------------------------------------------------------------------------------\n",
      "exp. EVT3 | 350       | - 59%     | - 18%      | -  0%      | 1.83      | +101%    | +114%      | -  0%   \n",
      "------------------------------------------------------------------------------------------------------------\n",
      "hdf5      | 1701      | +100%     | +299%      | +386%      | 0.77      | - 15%    | - 10%      | - 58%   \n",
      "------------------------------------------------------------------------------------------------------------\n",
      "hdf5_lzf  | 746       | - 12%     | + 75%      | +113%      | 2.92      | +220%    | +241%      | + 59%   \n",
      "------------------------------------------------------------------------------------------------------------\n",
      "hdf5_gzip | 419       | - 51%     | -  2%      | + 20%      | 5.14      | +464%    | +501%      | +180%   \n",
      "------------------------------------------------------------------------------------------------------------\n",
      "numpy     | 1701      | +100%     | +299%      | +386%      | 0.46      | - 50%    | - 46%      | - 75%   \n",
      "------------------------------------------------------------------------------------------------------------\n"
     ]
    }
   ],
   "source": [
    "def gen_row(sw_name, size_value, time_value, mode):\n",
    "    exp_dict = data[\"expelliarmus\"]\n",
    "    dat_fsize, evt2_fsize, evt3_fsize = exp_dict[\"dat\"][\"fsize\"], exp_dict[\"evt2\"][\"fsize\"], exp_dict[\"evt3\"][\"fsize\"]\n",
    "    dat_time, evt2_time, evt3_time = exp_dict[\"dat\"][mode], exp_dict[\"evt2\"][mode], exp_dict[\"evt3\"][mode]\n",
    "    return_str = f'{sw_name:<9} | {size_value:<9} | ' + \\\n",
    "                 f'{get_diff_perc_str(dat_fsize, size_value):<9} | ' + \\\n",
    "                 f'{get_diff_perc_str(evt2_fsize, size_value):<10} | ' + \\\n",
    "                 f'{get_diff_perc_str(evt3_fsize, size_value):<10} | ' + \\\n",
    "                 f'{time_value:<9.2f} | ' + \\\n",
    "                 f'{get_diff_perc_str(dat_time, time_value):<8} | ' +\\\n",
    "                 f'{get_diff_perc_str(evt2_time, time_value):<10} | ' + \\\n",
    "                 f'{get_diff_perc_str(evt3_time, time_value):<8}'\n",
    "    return return_str\n",
    "\n",
    "header = \"Software  | Size [MB] | Diff. DAT | Diff. EVT2 | Diff. EVT3 | Time [s] | \" +\\\n",
    "         \"Diff. DAT | Diff. EVT2 | Diff. EVT3\"\n",
    "print(\"-\"*len(header))\n",
    "print(header)\n",
    "print(\"-\"*len(header))\n",
    "\n",
    "for encoding in encodings:\n",
    "    print(gen_row(f\"exp. {encoding.upper()}\", data[\"expelliarmus\"][encoding][\"fsize\"], data[\"expelliarmus\"][encoding][\"full\"], \"full\"))\n",
    "    print(\"-\"*len(header))\n",
    "    \n",
    "for sw in softwares: \n",
    "    print(gen_row(sw, data[sw][\"fsize\"], data[sw][\"full\"], \"full\"))\n",
    "    print(\"-\"*len(header))"
   ]
  },
  {
   "cell_type": "code",
   "execution_count": 80,
   "id": "473ae1be",
   "metadata": {},
   "outputs": [
    {
     "name": "stdout",
     "output_type": "stream",
     "text": [
      "------------------------------------------------------------\n",
      "Encoding | Metavision | Expelliarmus | Abs. diff. | % diff.\n",
      "------------------------------------------------------------\n",
      "DAT      |    0.48s   |     0.91s    |    0.43s   |   47% \n",
      "------------------------------------------------------------\n",
      "EVT2     |    1.31s   |     0.86s    |   -0.46s   |  -53% \n",
      "------------------------------------------------------------\n",
      "EVT3     |    2.09s   |     1.83s    |   -0.26s   |  -14% \n",
      "------------------------------------------------------------\n",
      "Negative numbers show that expelliarmus is faster than metavision.\n"
     ]
    }
   ],
   "source": [
    "print('-'*60)\n",
    "print(f'{\"Encoding\":<8} | {\"Metavision\":<10} | {\"Expelliarmus\":<12} | {\"Abs. diff.\":<9} | {\"% diff.\":<7}\\n' + '-'*60)\n",
    "for encoding in encodings:\n",
    "    exp = data[\"expelliarmus\"][encoding][\"full\"]\n",
    "    met = data[\"metavision\"][encoding][\"full\"]\n",
    "    rel_diff = -(met/exp - 1) if met > exp else 1 - met/exp\n",
    "    print(f'{encoding.upper():<8} | {met:>7.2f}s   | {exp:>8.2f}s    | ' + \\\n",
    "          f'{exp-met:>7.2f}s   | {rel_diff:>5.0%} \\n' + '-'*60)\n",
    "print('Negative numbers show that expelliarmus is faster than metavision.')"
   ]
  },
  {
   "cell_type": "markdown",
   "id": "d3239ea3",
   "metadata": {},
   "source": [
    "## Plotting results\n",
    "\n",
    "***TODO: update with metavision results***"
   ]
  },
  {
   "cell_type": "code",
   "execution_count": null,
   "id": "ebc3f0ab",
   "metadata": {},
   "outputs": [],
   "source": [
    "import matplotlib.pyplot as plt\n",
    "import matplotlib as mpl\n",
    "plt.style.use('classic')\n",
    "%matplotlib inline"
   ]
  },
  {
   "cell_type": "code",
   "execution_count": null,
   "id": "63fabd1f",
   "metadata": {},
   "outputs": [],
   "source": [
    "plt.clf()\n",
    "fig = plt.figure(figsize=(12, 8), dpi=120)\n",
    "\n",
    "plt.xlabel(\"File size [MB]\")\n",
    "plt.ylabel(\"Read time [s]\")\n",
    "plt.title(\"DAT, EVT2 and EVT3 encodings (whole file)\")\n",
    "\n",
    "exp_colors = dict(dat=\"gold\", evt2=\"orange\", evt3=\"tomato\")\n",
    "sw_colors = dict(hdf5=\"royalblue\", hdf5_lzf=\"limegreen\", hdf5_gzip=\"mediumorchid\", numpy=\"hotpink\")\n",
    "sw_markers = dict(hdf5=\">\", hdf5_lzf=\"^\", hdf5_gzip=\"v\", numpy=\"*\")\n",
    "\n",
    "# Expelliarmus\n",
    "for encoding in encodings:\n",
    "     plt.scatter(data[\"expelliarmus\"][encoding][\"fsize\"], data[\"expelliarmus\"][encoding][\"full\"], marker=\"o\", s=240, color=exp_colors[encoding], label=f\"expelliarmus - {encoding.upper()}\")\n",
    "\n",
    "# Other softwares.\n",
    "for sw in softwares:\n",
    "    plt.scatter(data[sw][\"fsize\"], data[sw][\"full\"], marker=sw_markers[sw], s=240, color=sw_colors[sw], label=sw)\n",
    "\n",
    "plt.legend()\n",
    "plt.show()"
   ]
  },
  {
   "cell_type": "code",
   "execution_count": null,
   "id": "78854dde",
   "metadata": {},
   "outputs": [],
   "source": [
    "TIME_WINDOW = 20\n",
    "\n",
    "print(\"Time windowing read\")\n",
    "arr_len = len(wizard.read(get_fpath(\"evt3\")))\n",
    "for encoding in encodings:\n",
    "\n",
    "    if not LOAD_RESULTS:  \n",
    "        fpath = pathlib.Path(get_fpath(encoding))\n",
    "        wizard.set_encoding(encoding)\n",
    "        wizard.set_file(fpath)\n",
    "        wizard.set_time_window(TIME_WINDOW)\n",
    "        time_window_length = len(next(wizard.read_time_window()))\n",
    "        def fn():\n",
    "            wizard.reset()\n",
    "            return [window for window in wizard.read_time_window()]\n",
    "            \n",
    "        data[\"expelliarmus\"][encoding][\"windowed\"] = sum(timeit.repeat(fn, number=1, repeat=REPEAT))/REPEAT\n",
    "\n",
    "# HDF5 formats.\n",
    "for sw in softwares[:-1]:\n",
    "    fpath = pathlib.Path(f\"ref_{sw}.hdf5\")\n",
    "    fp = h5py.File(fpath)\n",
    "    data[sw][\"windowed\"] = sum(timeit.repeat(lambda: [fp[\"arr\"][i*time_window_length:min(arr_len, (i+1)*time_window_length)] for i in range(arr_len//time_window_length)], number=1, repeat=REPEAT))/REPEAT\n",
    "    fp.close()\n",
    "\n",
    "header = f\"Software  | Size [MB] | Diff. DAT | Diff. EVT2 | Diff. EVT3 | Time [s] | Diff. DAT | Diff. EVT2 | Diff. EVT3\"\n",
    "print(\"-\"*len(header))\n",
    "print(header)\n",
    "print(\"-\"*len(header))\n",
    "\n",
    "for encoding in encodings:\n",
    "    print(gen_row(f\"exp. {encoding.upper()}\", data[\"expelliarmus\"][encoding][\"fsize\"], data[\"expelliarmus\"][encoding][\"windowed\"], \"windowed\"))\n",
    "    print(\"-\"*len(header))\n",
    "\n",
    "for sw in softwares[:-1]: \n",
    "    print(gen_row(sw, data[sw][\"fsize\"], data[sw][\"windowed\"], \"windowed\"))\n",
    "    print(\"-\"*len(header))"
   ]
  },
  {
   "cell_type": "code",
   "execution_count": null,
   "id": "892375ab",
   "metadata": {
    "scrolled": false
   },
   "outputs": [],
   "source": [
    "plt.clf()\n",
    "fig = plt.figure(figsize=(12, 8), dpi=120)\n",
    "\n",
    "plt.xlabel(\"File size [MB]\")\n",
    "plt.ylabel(\"Read time [s]\")\n",
    "plt.title(\"DAT, EVT2 and EVT3 encodings (time-windowed file)\")\n",
    "\n",
    "# Expelliarmus\n",
    "for encoding in encodings:\n",
    "     plt.scatter(data[\"expelliarmus\"][encoding][\"fsize\"], data[\"expelliarmus\"][encoding][\"windowed\"], marker=\"o\", s=240, color=exp_colors[encoding], label=f\"expelliarmus - {encoding.upper()}\")\n",
    "\n",
    "# Other softwares.\n",
    "for sw in softwares[:-1]:\n",
    "    plt.scatter(data[sw][\"fsize\"], data[sw][\"windowed\"], marker=sw_markers[sw], s=240, color=sw_colors[sw], label=sw)\n",
    "\n",
    "plt.legend()\n",
    "plt.show()"
   ]
  },
  {
   "cell_type": "code",
   "execution_count": null,
   "id": "2ca04d5d",
   "metadata": {},
   "outputs": [],
   "source": [
    "CHUNK_LEN = 8192\n",
    "\n",
    "print(\"Chunk read\")\n",
    "arr_len = len(wizard.read(get_fpath(\"evt3\")))\n",
    "for encoding in encodings:\n",
    "\n",
    "    if not LOAD_RESULTS:  \n",
    "        fpath = pathlib.Path(get_fpath(encoding))\n",
    "        wizard.set_encoding(encoding)\n",
    "        wizard.set_file(fpath)\n",
    "        wizard.set_chunk_size(CHUNK_LEN)\n",
    "        def fn():\n",
    "            wizard.reset()\n",
    "            return [chunk for chunk in wizard.read_chunk()]\n",
    "            \n",
    "        data[\"expelliarmus\"][encoding][\"chunked\"] = sum(timeit.repeat(fn, number=1, repeat=REPEAT))/REPEAT\n",
    "\n",
    "# HDF5 formats.\n",
    "for sw in softwares[:-1]:\n",
    "    fpath = pathlib.Path(f\"ref_{sw}.hdf5\")\n",
    "    fp = h5py.File(fpath)\n",
    "    data[sw][\"chunked\"] = sum(timeit.repeat(lambda: [fp[\"arr\"][i*CHUNK_LEN:min(arr_len, (i+1)*CHUNK_LEN)] for i in range(arr_len//CHUNK_LEN)], number=1, repeat=REPEAT))/REPEAT\n",
    "    fp.close()\n",
    "\n",
    "header = f\"Software  | Size [MB] | Diff. DAT | Diff. EVT2 | Diff. EVT3 | Time [s] | Diff. DAT | Diff. EVT2 | Diff. EVT3\"\n",
    "print(\"-\"*len(header))\n",
    "print(header)\n",
    "print(\"-\"*len(header))\n",
    "\n",
    "for encoding in encodings:\n",
    "    print(gen_row(f\"exp. {encoding.upper()}\", data[\"expelliarmus\"][encoding][\"fsize\"], data[\"expelliarmus\"][encoding][\"chunked\"], \"chunked\"))\n",
    "    print(\"-\"*len(header))\n",
    "\n",
    "for sw in softwares[:-1]: \n",
    "    print(gen_row(sw, data[sw][\"fsize\"], data[sw][\"chunked\"], \"chunked\"))\n",
    "    print(\"-\"*len(header))"
   ]
  },
  {
   "cell_type": "code",
   "execution_count": null,
   "id": "dd436a2e",
   "metadata": {},
   "outputs": [],
   "source": [
    "plt.clf()\n",
    "fig = plt.figure(figsize=(12, 8), dpi=120)\n",
    "\n",
    "plt.xlabel(\"File size [MB]\")\n",
    "plt.ylabel(\"Read time [s]\")\n",
    "plt.title(\"DAT, EVT2 and EVT3 encodings (chunked file)\")\n",
    "\n",
    "# Expelliarmus\n",
    "for encoding in encodings:\n",
    "     plt.scatter(data[\"expelliarmus\"][encoding][\"fsize\"], data[\"expelliarmus\"][encoding][\"chunked\"], marker=\"o\", s=240, color=exp_colors[encoding], label=f\"expelliarmus - {encoding.upper()}\")\n",
    "\n",
    "# Other softwares.\n",
    "for sw in softwares[:-1]:\n",
    "    plt.scatter(data[sw][\"fsize\"], data[sw][\"chunked\"], marker=sw_markers[sw], s=240, color=sw_colors[sw], label=sw)\n",
    "\n",
    "plt.legend()\n",
    "plt.show()"
   ]
  },
  {
   "cell_type": "code",
   "execution_count": null,
   "id": "e8abe958",
   "metadata": {},
   "outputs": [],
   "source": [
    "if SAVE_RESULTS:\n",
    "    pickle.dump(data, open(\"./benchmark.pk\", \"wb\"))"
   ]
  }
 ],
 "metadata": {
  "kernelspec": {
   "display_name": "Python 3 (ipykernel)",
   "language": "python",
   "name": "python3"
  },
  "language_info": {
   "codemirror_mode": {
    "name": "ipython",
    "version": 3
   },
   "file_extension": ".py",
   "mimetype": "text/x-python",
   "name": "python",
   "nbconvert_exporter": "python",
   "pygments_lexer": "ipython3",
   "version": "3.8.10"
  },
  "vscode": {
   "interpreter": {
    "hash": "899be85650f4fd9fd1c61155ad1038b3bd3ce4f173c19491b42003eb0b61918c"
   }
  }
 },
 "nbformat": 4,
 "nbformat_minor": 5
}
